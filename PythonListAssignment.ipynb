{
 "cells": [
  {
   "cell_type": "code",
   "execution_count": 1,
   "id": "f1895954-4be5-404a-8743-01c71155b5d3",
   "metadata": {},
   "outputs": [],
   "source": [
    "l=[]"
   ]
  },
  {
   "cell_type": "code",
   "execution_count": 2,
   "id": "e98a249b-8821-4f19-8ce0-26c53078aa73",
   "metadata": {},
   "outputs": [
    {
     "data": {
      "text/plain": [
       "[]"
      ]
     },
     "execution_count": 2,
     "metadata": {},
     "output_type": "execute_result"
    }
   ],
   "source": [
    "l"
   ]
  },
  {
   "cell_type": "code",
   "execution_count": 3,
   "id": "81736ba0-af5d-4f6e-b9dd-eb776edfea7a",
   "metadata": {},
   "outputs": [],
   "source": [
    "#This is the answer 1."
   ]
  },
  {
   "cell_type": "code",
   "execution_count": 10,
   "id": "5e47f9f5-c05a-44bf-ba4e-bab35f819790",
   "metadata": {},
   "outputs": [],
   "source": [
    "l=[1,2,3,4]"
   ]
  },
  {
   "cell_type": "code",
   "execution_count": 11,
   "id": "537cc290-903c-408d-8a74-e99e06419682",
   "metadata": {},
   "outputs": [],
   "source": [
    "l=[1,2,3,4,5]"
   ]
  },
  {
   "cell_type": "code",
   "execution_count": 12,
   "id": "fb9ba571-b709-45f3-9de6-331aae69532a",
   "metadata": {},
   "outputs": [
    {
     "data": {
      "text/plain": [
       "[1, 2, 3, 4, 5]"
      ]
     },
     "execution_count": 12,
     "metadata": {},
     "output_type": "execute_result"
    }
   ],
   "source": [
    "l"
   ]
  },
  {
   "cell_type": "code",
   "execution_count": 13,
   "id": "ecedc84f-884f-44ae-84f3-3b1f8fefc507",
   "metadata": {},
   "outputs": [],
   "source": [
    "#This is the answer 2."
   ]
  },
  {
   "cell_type": "code",
   "execution_count": 14,
   "id": "38c9a8d6-859a-49b9-8f1a-417dcb5c9074",
   "metadata": {},
   "outputs": [
    {
     "data": {
      "text/plain": [
       "5"
      ]
     },
     "execution_count": 14,
     "metadata": {},
     "output_type": "execute_result"
    }
   ],
   "source": [
    "l[4]"
   ]
  },
  {
   "cell_type": "code",
   "execution_count": 15,
   "id": "015c0cb3-2205-4b5a-a57a-5e5f1b445c2a",
   "metadata": {},
   "outputs": [],
   "source": [
    "#This is the answer 3."
   ]
  },
  {
   "cell_type": "code",
   "execution_count": 17,
   "id": "81c62225-6253-415d-b43b-4f13e425088c",
   "metadata": {},
   "outputs": [
    {
     "data": {
      "text/plain": [
       "[5, 4, 3, 2, 1]"
      ]
     },
     "execution_count": 17,
     "metadata": {},
     "output_type": "execute_result"
    }
   ],
   "source": [
    "l[::-1]"
   ]
  },
  {
   "cell_type": "code",
   "execution_count": 18,
   "id": "a4a445bd-e52a-49e1-ab56-61ac59fed7fa",
   "metadata": {},
   "outputs": [],
   "source": [
    "#This is the answer 4."
   ]
  },
  {
   "cell_type": "code",
   "execution_count": 19,
   "id": "42859b09-ab4d-43b0-8021-a570af0a8903",
   "metadata": {},
   "outputs": [
    {
     "data": {
      "text/plain": [
       "[1, 2, 3, 4, 5]"
      ]
     },
     "execution_count": 19,
     "metadata": {},
     "output_type": "execute_result"
    }
   ],
   "source": [
    "l"
   ]
  },
  {
   "cell_type": "code",
   "execution_count": 20,
   "id": "28cdbc55-975a-4a7f-87ff-7a682d86e260",
   "metadata": {},
   "outputs": [],
   "source": [
    "#This is the answer 5."
   ]
  },
  {
   "cell_type": "code",
   "execution_count": 21,
   "id": "a81d2f23-e664-421b-8460-8f38b588f3b7",
   "metadata": {},
   "outputs": [],
   "source": [
    "l=[\"PK\",\"Laal Singh Chadda\",\"Dangal\"]"
   ]
  },
  {
   "cell_type": "code",
   "execution_count": 22,
   "id": "8641b9e5-e837-4e90-9bc1-7aed7fd73bac",
   "metadata": {},
   "outputs": [
    {
     "data": {
      "text/plain": [
       "'Laal Singh Chadda'"
      ]
     },
     "execution_count": 22,
     "metadata": {},
     "output_type": "execute_result"
    }
   ],
   "source": [
    "l[1]"
   ]
  },
  {
   "cell_type": "code",
   "execution_count": 23,
   "id": "974b0f3a-3e80-4e3b-b6cb-444c2433e49c",
   "metadata": {},
   "outputs": [],
   "source": [
    "#This is the answer 6."
   ]
  },
  {
   "cell_type": "code",
   "execution_count": 24,
   "id": "fecb4f39-0a2d-42e6-a8e4-bfa7bf5ce07f",
   "metadata": {},
   "outputs": [],
   "source": [
    "l=[\"Elephant\",\"Lion\",\"Tiger\"]"
   ]
  },
  {
   "cell_type": "code",
   "execution_count": 25,
   "id": "4b77c77e-26a2-4109-a446-a33791ef4bed",
   "metadata": {},
   "outputs": [],
   "source": [
    "l=[\"Elephant\",\"Lion\",\"Tiger\",\"Giraffe\"]"
   ]
  },
  {
   "cell_type": "code",
   "execution_count": 26,
   "id": "a393818c-1cbd-4341-abfb-655c5714202a",
   "metadata": {},
   "outputs": [
    {
     "data": {
      "text/plain": [
       "['Elephant', 'Lion', 'Tiger', 'Giraffe']"
      ]
     },
     "execution_count": 26,
     "metadata": {},
     "output_type": "execute_result"
    }
   ],
   "source": [
    "l"
   ]
  },
  {
   "cell_type": "code",
   "execution_count": 27,
   "id": "3d20d2b9-e9e7-438d-ad61-f11046890c60",
   "metadata": {},
   "outputs": [],
   "source": [
    "#This is the answer 7."
   ]
  },
  {
   "cell_type": "code",
   "execution_count": 28,
   "id": "e6b39b41-e963-45d8-9534-b46f12993831",
   "metadata": {},
   "outputs": [],
   "source": [
    "l=[\"Delhi\",\"Mumbai\",\"Bangalore\",\"Chennai\"]"
   ]
  },
  {
   "cell_type": "code",
   "execution_count": 29,
   "id": "76117098-618a-4b73-8ee1-f1d437d79041",
   "metadata": {},
   "outputs": [
    {
     "data": {
      "text/plain": [
       "'Bangalore'"
      ]
     },
     "execution_count": 29,
     "metadata": {},
     "output_type": "execute_result"
    }
   ],
   "source": [
    "l[-2]"
   ]
  },
  {
   "cell_type": "code",
   "execution_count": null,
   "id": "8c8e2aab-d739-41ec-ba4c-78d29766aabe",
   "metadata": {},
   "outputs": [],
   "source": [
    "#This is the answer 8."
   ]
  }
 ],
 "metadata": {
  "kernelspec": {
   "display_name": "Python 3 (ipykernel)",
   "language": "python",
   "name": "python3"
  },
  "language_info": {
   "codemirror_mode": {
    "name": "ipython",
    "version": 3
   },
   "file_extension": ".py",
   "mimetype": "text/x-python",
   "name": "python",
   "nbconvert_exporter": "python",
   "pygments_lexer": "ipython3",
   "version": "3.10.8"
  }
 },
 "nbformat": 4,
 "nbformat_minor": 5
}
